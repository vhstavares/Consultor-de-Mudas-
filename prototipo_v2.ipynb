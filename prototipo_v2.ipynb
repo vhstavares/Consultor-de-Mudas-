{
  "nbformat": 4,
  "nbformat_minor": 0,
  "metadata": {
    "colab": {
      "name": "prototipo_v2.ipynb",
      "provenance": [],
      "authorship_tag": "ABX9TyPrVP6BYxku0oEG9lfFksvz",
      "include_colab_link": true
    },
    "kernelspec": {
      "name": "python3",
      "display_name": "Python 3"
    },
    "language_info": {
      "name": "python"
    },
    "accelerator": "GPU"
  },
  "cells": [
    {
      "cell_type": "markdown",
      "metadata": {
        "id": "view-in-github",
        "colab_type": "text"
      },
      "source": [
        "<a href=\"https://colab.research.google.com/github/vhstavares/Consultor-de-Mudas-/blob/main/prototipo_v2.ipynb\" target=\"_parent\"><img src=\"https://colab.research.google.com/assets/colab-badge.svg\" alt=\"Open In Colab\"/></a>"
      ]
    },
    {
      "cell_type": "markdown",
      "metadata": {
        "id": "3Cgu82_1qFjd"
      },
      "source": [
        "#Imports"
      ]
    },
    {
      "cell_type": "code",
      "metadata": {
        "id": "mW7dIDrZqKT9"
      },
      "source": [
        "import os\n",
        "from google.colab import drive\n",
        "import cv2\n",
        "import numpy as np\n",
        "import matplotlib.pyplot as plt\n",
        "import os\n",
        "import seaborn as sns\n",
        "from keras.preprocessing.image import ImageDataGenerator\n",
        "from sklearn.model_selection import train_test_split"
      ],
      "execution_count": 12,
      "outputs": []
    },
    {
      "cell_type": "markdown",
      "metadata": {
        "id": "wTOLew-GjsWg"
      },
      "source": [
        "##Puxando dataset do driver"
      ]
    },
    {
      "cell_type": "code",
      "metadata": {
        "colab": {
          "base_uri": "https://localhost:8080/"
        },
        "id": "zgh0Kqlmjw5U",
        "outputId": "973dd2b5-ba20-42f3-eb49-a51d65d42c5b"
      },
      "source": [
        "drive.mount('/content/drive/', force_remount=True)"
      ],
      "execution_count": 3,
      "outputs": [
        {
          "output_type": "stream",
          "text": [
            "Mounted at /content/drive/\n"
          ],
          "name": "stdout"
        }
      ]
    },
    {
      "cell_type": "code",
      "metadata": {
        "id": "Ko7PL1oPkK8Q"
      },
      "source": [
        "train_dir = \"/content/drive/MyDrive/tcc/arquivos/train\"\n",
        "ROTULOS = ['CARAIBA','GUARITA','IPE_AMARELO']"
      ],
      "execution_count": 4,
      "outputs": []
    },
    {
      "cell_type": "code",
      "metadata": {
        "id": "Lmsa22J_kN4j"
      },
      "source": [
        "totalTreino = 100\n",
        "train_img = []\n",
        "for train in os.listdir(train_dir):\n",
        "  train_muda = [train_dir+\"/\"+train+\"/\"+img for img in os.listdir(train_dir+\"/\"+train)]\n",
        "  train_img += train_muda[:totalTreino]"
      ],
      "execution_count": 5,
      "outputs": []
    },
    {
      "cell_type": "markdown",
      "metadata": {
        "id": "Y6q6Bet4kqpH"
      },
      "source": [
        "##Lendo os dados\n",
        "Imagens de 3 especies diferentes: Caraiba(Valor 0), Ipê Amarelo(Valor 1) e Guarita(Valor 2)"
      ]
    },
    {
      "cell_type": "markdown",
      "metadata": {
        "id": "ie_beTEYLeGS"
      },
      "source": [
        "# Converter Imagem"
      ]
    },
    {
      "cell_type": "code",
      "metadata": {
        "id": "7ibXwaSxZoDE"
      },
      "source": [
        "from google.colab.patches import cv2_imshow\n",
        "\n",
        "def convertImagem(imagem):\n",
        "    brightness = 10\n",
        "    contrast = 30\n",
        "    img = np.int16(imagem)\n",
        "    img = img * (contrast/127+1) - contrast + brightness\n",
        "    img = np.clip(img, 0, 255)\n",
        "    img = np.uint8(img)\n",
        "\n",
        "    (r, g, b) = cv2.split(img)\n",
        "    gray = cv2.cvtColor(img, cv2.COLOR_BGR2GRAY)\n",
        "\n",
        "    retorno = cv2.merge([gray, g, gray])\n",
        "    #cv2_imshow(retorno)\n",
        "    return retorno"
      ],
      "execution_count": 24,
      "outputs": []
    },
    {
      "cell_type": "markdown",
      "metadata": {
        "id": "vUJpFbqNLlAE"
      },
      "source": [
        "# Ler Imagem"
      ]
    },
    {
      "cell_type": "code",
      "metadata": {
        "id": "6ZsvXjbZkcpc"
      },
      "source": [
        "def ler_imagens(lista_de_imagens):\n",
        "    \"\"\"\n",
        "    Retorna dois arrays: \n",
        "       um será as imagens e o outro seus respectivos rotulos\n",
        "    \"\"\"\n",
        "    imagens = [] # images\n",
        "    rotulos = [] # labels\n",
        "    \n",
        "    for image in lista_de_imagens:\n",
        "        #Lendo a imagem com as dimensões de 180 por 120\n",
        "        imagem = cv2.resize(\n",
        "            cv2.imread(image, cv2.IMREAD_COLOR), (180,120), \n",
        "            interpolation=cv2.INTER_CUBIC)\n",
        "        \n",
        "        imagem = convertImagem(imagem)\n",
        "\n",
        "        imagens.append(imagem)\n",
        "\n",
        "        #Pegando os rotulos\n",
        "        rotulo = ROTULOS.index(str(image).split('/')[7])\n",
        "        rotulos.append(rotulo)\n",
        "\n",
        "    return imagens, rotulos"
      ],
      "execution_count": 7,
      "outputs": []
    },
    {
      "cell_type": "markdown",
      "metadata": {
        "id": "PKjQ0eAELvwi"
      },
      "source": [
        "#Lendo Imagens e rótulos"
      ]
    },
    {
      "cell_type": "code",
      "metadata": {
        "id": "XVUb2_htoyXw",
        "colab": {
          "base_uri": "https://localhost:8080/",
          "height": 354
        },
        "outputId": "5a1d6dc1-e2b4-4a24-9882-58cfd030e5a3"
      },
      "source": [
        "treinoX, treinoY = ler_imagens(lista_de_imagens=train_img)\n",
        "treinoX = np.array(treinoX)\n",
        "treinoY = np.array(treinoY)\n",
        "\n",
        "#Plota o grafico com a quantidade de cada label\n",
        "sns.countplot(treinoY)\n",
        "plt.title('Rótulos para mudas:')"
      ],
      "execution_count": 8,
      "outputs": [
        {
          "output_type": "stream",
          "text": [
            "/usr/local/lib/python3.7/dist-packages/seaborn/_decorators.py:43: FutureWarning: Pass the following variable as a keyword arg: x. From version 0.12, the only valid positional argument will be `data`, and passing other arguments without an explicit keyword will result in an error or misinterpretation.\n",
            "  FutureWarning\n"
          ],
          "name": "stderr"
        },
        {
          "output_type": "execute_result",
          "data": {
            "text/plain": [
              "Text(0.5, 1.0, 'Rótulos para mudas:')"
            ]
          },
          "metadata": {
            "tags": []
          },
          "execution_count": 8
        },
        {
          "output_type": "display_data",
          "data": {
            "image/png": "[encoded data removed]",
            "text/plain": [
              "<Figure size 432x288 with 1 Axes>"
            ]
          },
          "metadata": {
            "tags": [],
            "needs_background": "light"
          }
        }
      ]
    },
    {
      "cell_type": "markdown",
      "metadata": {
        "id": "hEnxr9O7L4sd"
      },
      "source": [
        "# Separando dados de treino e teste"
      ]
    },
    {
      "cell_type": "code",
      "metadata": {
        "colab": {
          "base_uri": "https://localhost:8080/"
        },
        "id": "XWAWX_klbnJ4",
        "outputId": "8760468c-0293-42ed-94b8-8cb4d26efafd"
      },
      "source": [
        "from sklearn.model_selection import train_test_split\n",
        "X_train, X_val, y_train, y_val = train_test_split(treinoX, treinoY, test_size=0.20, random_state=2)\n",
        "\n",
        "print(\"Shape of train images is:\", X_train.shape)\n",
        "print(\"Shape of validation images is:\", X_val.shape)\n",
        "print(\"Shape of labels is:\", y_train.shape)\n",
        "print(\"Shape of labels is:\", y_val.shape)"
      ],
      "execution_count": 9,
      "outputs": [
        {
          "output_type": "stream",
          "text": [
            "Shape of train images is: (240, 120, 180, 3)\n",
            "Shape of validation images is: (60, 120, 180, 3)\n",
            "Shape of labels is: (240,)\n",
            "Shape of labels is: (60,)\n"
          ],
          "name": "stdout"
        }
      ]
    },
    {
      "cell_type": "markdown",
      "metadata": {
        "id": "6s71z5trL_ky"
      },
      "source": [
        "# Gerando Modelo"
      ]
    },
    {
      "cell_type": "code",
      "metadata": {
        "id": "BoEFk6aoaP5v"
      },
      "source": [
        "import tensorflow as tf\n",
        "\n",
        "from tensorflow import keras\n",
        "from tensorflow.keras import layers,losses\n",
        "from tensorflow.keras.models import Sequential\n",
        "\n",
        "num_classes = 3\n",
        "\n",
        "model = Sequential([\n",
        "  layers.Conv2D(32, (3, 3), activation='relu', input_shape=(180, 120, 3)),\n",
        "  layers.MaxPooling2D((2, 2)),\n",
        "\n",
        "  layers.Conv2D(64, (3, 3), activation='relu', input_shape=(180, 120, 3)),\n",
        "  layers.MaxPooling2D((2, 2)),\n",
        "\n",
        "  layers.Conv2D(128, (3, 3),  activation='relu', input_shape=(180, 120, 3)),\n",
        "  layers.MaxPooling2D((2, 2)),\n",
        "\n",
        "  layers.Conv2D(128, (3, 3),  activation='relu', input_shape=(180, 120, 3)),\n",
        "  layers.MaxPooling2D((2, 2)),\n",
        "\n",
        "  layers.Flatten(),\n",
        "\n",
        "  layers.Dense(512, activation='relu'),\n",
        "  \n",
        "  layers.Dense(num_classes, activation='softmax')\n",
        "])\n",
        "\n",
        "model.summary()\n",
        "\n",
        "model.compile(optimizer='adam',\n",
        "              loss='sparse_categorical_crossentropy',\n",
        "              metrics=['accuracy'])"
      ],
      "execution_count": null,
      "outputs": []
    },
    {
      "cell_type": "code",
      "metadata": {
        "id": "PuLCJ3BJbQ3P"
      },
      "source": [
        "ntrain = len(X_train)\n",
        "nval = len(X_val)\n",
        "batch_size = 16\n",
        "train_datagen = ImageDataGenerator(rescale=1./255,   \n",
        "                                    rotation_range=40,\n",
        "                                    width_shift_range=0.2,\n",
        "                                    height_shift_range=0.2,\n",
        "                                    shear_range=0.2,\n",
        "                                    zoom_range=0.2,\n",
        "                                    horizontal_flip=True,)\n",
        "\n",
        "val_datagen = ImageDataGenerator(rescale=1./255)  \n",
        "\n",
        "#Create the image generators\n",
        "train_generator = train_datagen.flow(X_train, y_train, batch_size=batch_size)\n",
        "val_generator = val_datagen.flow(X_val, y_val, batch_size=batch_size)"
      ],
      "execution_count": 15,
      "outputs": []
    },
    {
      "cell_type": "code",
      "metadata": {
        "id": "GnnK-Skkb-Js"
      },
      "source": [
        "Epocas = 10\n",
        "historico = model.fit_generator(train_generator, \n",
        "                                steps_per_epoch=ntrain // batch_size, \n",
        "                                epochs=Epocas, \n",
        "                                validation_data=val_generator, \n",
        "                                validation_steps=nval // batch_size)"
      ],
      "execution_count": null,
      "outputs": []
    },
    {
      "cell_type": "markdown",
      "metadata": {
        "id": "wC3gA66RMVqd"
      },
      "source": [
        "# Analisando Acurácia e Perdas"
      ]
    },
    {
      "cell_type": "markdown",
      "metadata": {
        "id": "482x_4LpLStm"
      },
      "source": [
        "**Acurácia por épocas**"
      ]
    },
    {
      "cell_type": "code",
      "metadata": {
        "colab": {
          "base_uri": "https://localhost:8080/",
          "height": 314
        },
        "id": "gixjp1DQGonk",
        "outputId": "505d4909-09fe-4a07-e69c-5c94eb0ebd8d"
      },
      "source": [
        "plt.plot(historico.history['accuracy'])\n",
        "plt.plot(historico.history['val_accuracy'])\n",
        "plt.title('Acurácia por épocas')\n",
        "plt.xlabel('épocas')\n",
        "plt.ylabel('acurácia')\n",
        "plt.legend(['treino', 'validação'])"
      ],
      "execution_count": 22,
      "outputs": [
        {
          "output_type": "execute_result",
          "data": {
            "text/plain": [
              "<matplotlib.legend.Legend at 0x7f15389a50d0>"
            ]
          },
          "metadata": {
            "tags": []
          },
          "execution_count": 22
        },
        {
          "output_type": "display_data",
          "data": {
            "image/png": "[encoded data removed]",
            "text/plain": [
              "<Figure size 432x288 with 1 Axes>"
            ]
          },
          "metadata": {
            "tags": [],
            "needs_background": "light"
          }
        }
      ]
    },
    {
      "cell_type": "markdown",
      "metadata": {
        "id": "ESMzY5exLX0U"
      },
      "source": [
        "**Perdas por épocas**"
      ]
    },
    {
      "cell_type": "code",
      "metadata": {
        "colab": {
          "base_uri": "https://localhost:8080/",
          "height": 314
        },
        "id": "-Ikzead6KwyX",
        "outputId": "84aab484-97a6-4cd4-dc3e-e576bd0df7b4"
      },
      "source": [
        "plt.plot(historico.history['loss'])\n",
        "plt.plot(historico.history['val_loss'])\n",
        "plt.title('Perda por épocas')\n",
        "plt.xlabel('épocas')\n",
        "plt.ylabel('perda')\n",
        "plt.legend(['treino', 'validação'])"
      ],
      "execution_count": 23,
      "outputs": [
        {
          "output_type": "execute_result",
          "data": {
            "text/plain": [
              "<matplotlib.legend.Legend at 0x7f153891a8d0>"
            ]
          },
          "metadata": {
            "tags": []
          },
          "execution_count": 23
        },
        {
          "output_type": "display_data",
          "data": {
            "image/png": "[encoded data removed]",
            "text/plain": [
              "<Figure size 432x288 with 1 Axes>"
            ]
          },
          "metadata": {
            "tags": [],
            "needs_background": "light"
          }
        }
      ]
    }
  ]
}